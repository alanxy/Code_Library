{
 "cells": [
  {
   "cell_type": "code",
   "execution_count": 1,
   "id": "4c81ac6b-884b-4204-9736-844538b00488",
   "metadata": {},
   "outputs": [],
   "source": [
    "import pandas as pd\n",
    "import math"
   ]
  },
  {
   "cell_type": "code",
   "execution_count": 2,
   "id": "d25f6aa5-5a96-4594-8f87-a29fdf8895c3",
   "metadata": {},
   "outputs": [],
   "source": [
    "haha = pd.read_csv(\"code_test.csv\")"
   ]
  },
  {
   "cell_type": "code",
   "execution_count": 3,
   "id": "25c281e3-7ae2-4978-9749-97255973596e",
   "metadata": {},
   "outputs": [],
   "source": [
    "hehe = haha.filter(['description', 'directory'], axis=1).copy()"
   ]
  },
  {
   "cell_type": "code",
   "execution_count": 4,
   "id": "11481565-9186-4d84-8b8c-3c5d982f83ea",
   "metadata": {},
   "outputs": [],
   "source": [
    "haha = haha.drop(haha.columns[-3:], axis=1)"
   ]
  },
  {
   "cell_type": "code",
   "execution_count": 7,
   "id": "5b536ecb-c6c9-49f4-bfb3-3197fa02cfc1",
   "metadata": {},
   "outputs": [
    {
     "ename": "TypeError",
     "evalue": "must be real number, not str",
     "output_type": "error",
     "traceback": [
      "\u001b[1;31m---------------------------------------------------------------------------\u001b[0m",
      "\u001b[1;31mTypeError\u001b[0m                                 Traceback (most recent call last)",
      "\u001b[1;32m<ipython-input-7-49e17d1b704b>\u001b[0m in \u001b[0;36m<module>\u001b[1;34m\u001b[0m\n\u001b[1;32m----> 1\u001b[1;33m \u001b[0mmath\u001b[0m\u001b[1;33m.\u001b[0m\u001b[0misnan\u001b[0m\u001b[1;33m(\u001b[0m\u001b[0mhaha\u001b[0m\u001b[1;33m.\u001b[0m\u001b[0miloc\u001b[0m\u001b[1;33m[\u001b[0m\u001b[1;36m0\u001b[0m\u001b[1;33m,\u001b[0m \u001b[1;36m0\u001b[0m\u001b[1;33m]\u001b[0m\u001b[1;33m)\u001b[0m\u001b[1;33m\u001b[0m\u001b[1;33m\u001b[0m\u001b[0m\n\u001b[0m",
      "\u001b[1;31mTypeError\u001b[0m: must be real number, not str"
     ]
    }
   ],
   "source": [
    "math.isnan(haha.iloc[0, 0])"
   ]
  },
  {
   "cell_type": "code",
   "execution_count": 27,
   "id": "bf7cf96a-9f31-4161-9385-7a953099b31e",
   "metadata": {},
   "outputs": [
    {
     "data": {
      "text/plain": [
       "True"
      ]
     },
     "execution_count": 27,
     "metadata": {},
     "output_type": "execute_result"
    }
   ],
   "source": [
    "math.isnan(haha.iloc[0, 2])"
   ]
  },
  {
   "cell_type": "code",
   "execution_count": 36,
   "id": "d6458d8e-06e4-4733-be94-5af96d6cd63b",
   "metadata": {},
   "outputs": [
    {
     "data": {
      "text/plain": [
       "10        GS\n",
       "11    NOMURA\n",
       "12    NOMURA\n",
       "Name: lv4, dtype: object"
      ]
     },
     "execution_count": 36,
     "metadata": {},
     "output_type": "execute_result"
    }
   ],
   "source": [
    "filter_nan(haha.iloc[:,3])"
   ]
  },
  {
   "cell_type": "code",
   "execution_count": 35,
   "id": "01a8cb29-4fe9-4ab2-8587-43b866d59ae1",
   "metadata": {},
   "outputs": [],
   "source": [
    "def filter_nan(df):\n",
    "    return df[df.notna()]"
   ]
  },
  {
   "cell_type": "code",
   "execution_count": 39,
   "id": "23a14984-32ef-48a0-be6e-1cf547e517d8",
   "metadata": {},
   "outputs": [
    {
     "data": {
      "text/plain": [
       "lv1          Bond\n",
       "lv2     Cash Bond\n",
       "lv3           NaN\n",
       "lv4           NaN\n",
       "lv5           NaN\n",
       "lv6           NaN\n",
       "lv7           NaN\n",
       "lv8           NaN\n",
       "lv9           NaN\n",
       "lv10          NaN\n",
       "Name: 0, dtype: object"
      ]
     },
     "execution_count": 39,
     "metadata": {},
     "output_type": "execute_result"
    }
   ],
   "source": [
    "haha.iloc[0]"
   ]
  },
  {
   "cell_type": "code",
   "execution_count": null,
   "id": "c64a3605-44af-4949-954b-58b4055acc36",
   "metadata": {},
   "outputs": [],
   "source": []
  }
 ],
 "metadata": {
  "kernelspec": {
   "display_name": "Python 3",
   "language": "python",
   "name": "python3"
  },
  "language_info": {
   "codemirror_mode": {
    "name": "ipython",
    "version": 3
   },
   "file_extension": ".py",
   "mimetype": "text/x-python",
   "name": "python",
   "nbconvert_exporter": "python",
   "pygments_lexer": "ipython3",
   "version": "3.8.8"
  }
 },
 "nbformat": 4,
 "nbformat_minor": 5
}
